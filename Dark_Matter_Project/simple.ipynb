{
 "cells": [
  {
   "cell_type": "code",
   "execution_count": 2,
   "metadata": {
    "collapsed": true,
    "ExecuteTime": {
     "end_time": "2023-10-19T01:01:05.707875300Z",
     "start_time": "2023-10-19T01:01:05.692255Z"
    }
   },
   "outputs": [],
   "source": [
    "import csv\n",
    "import numpy as np\n",
    "import matplotlib.pyplot as plt\n",
    "import math as math\n",
    "import itertools\n",
    "import os\n",
    "import scipy\n",
    "from scipy.optimize import curve_fit\n",
    "from scipy.ndimage import gaussian_filter\n",
    "from scipy import optimize\n",
    "from scipy.special import wofz"
   ]
  },
  {
   "cell_type": "code",
   "execution_count": 5,
   "outputs": [
    {
     "name": "stdout",
     "output_type": "stream",
     "text": [
      "100000 100000\n",
      "100000 100000\n"
     ]
    }
   ],
   "source": [
    "## Import visible matter profiles and plot them\n",
    "\n",
    "input_folder = './digitized_luminous_matter_profiles/third/'\n",
    "output_folder = './comparison_luminous_matter_profiles/third/'\n",
    "\n",
    "input_CSVs = ['thick.csv', 'thin.csv']\n",
    "output_CSVs = ['thick.csv', 'thin.csv']\n",
    "\n",
    "radius = np.linspace(0, 11.5, 100000)     # Radii array (100000 elements)\n",
    "\n",
    "for i in range(len(input_CSVs)):\n",
    "\n",
    "    input_file = input_folder + input_CSVs[i]\n",
    "    output_file = output_folder + output_CSVs[i]\n",
    "\n",
    "    df = np.genfromtxt(input_file, delimiter=',')\n",
    "    df_x, df_y = [], []\n",
    "\n",
    "    for i in range(len(df)):\n",
    "        df_x.append(df[i][0])\n",
    "        df_y.append(df[i][1])\n",
    "\n",
    "    comparison_points = np.interp(radius, df_x, df_y)\n",
    "\n",
    "    with open(output_file, mode='w', newline='') as file:\n",
    "        writer = csv.writer(file)\n",
    "\n",
    "        for i in range(len(radius)):\n",
    "            writer.writerow([radius[i], comparison_points[i]])\n",
    "\n",
    "    print(len(radius), len(comparison_points))"
   ],
   "metadata": {
    "collapsed": false,
    "ExecuteTime": {
     "end_time": "2023-10-19T01:02:08.363017300Z",
     "start_time": "2023-10-19T01:02:07.468345200Z"
    }
   }
  }
 ],
 "metadata": {
  "kernelspec": {
   "display_name": "Python 3",
   "language": "python",
   "name": "python3"
  },
  "language_info": {
   "codemirror_mode": {
    "name": "ipython",
    "version": 2
   },
   "file_extension": ".py",
   "mimetype": "text/x-python",
   "name": "python",
   "nbconvert_exporter": "python",
   "pygments_lexer": "ipython2",
   "version": "2.7.6"
  }
 },
 "nbformat": 4,
 "nbformat_minor": 0
}
